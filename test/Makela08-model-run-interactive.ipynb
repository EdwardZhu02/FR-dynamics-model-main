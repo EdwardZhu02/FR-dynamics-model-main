{
 "cells": [
  {
   "cell_type": "code",
   "execution_count": 9,
   "id": "initial_id",
   "metadata": {
    "collapsed": true,
    "ExecuteTime": {
     "end_time": "2024-05-16T07:50:09.257120Z",
     "start_time": "2024-05-16T07:50:09.250054Z"
    }
   },
   "outputs": [],
   "source": [
    "from modules.cn_allocation import Makela08_alloc_parameter\n",
    "import numpy as np\n",
    "import sympy as sp\n",
    "\n",
    "\n",
    "params_dict = Makela08_alloc_parameter.get_param_dict(dict_name=\"params_makela08_pine\")\n",
    "\n",
    "def matrix_generator(x_start, x_end, y_start, y_end, step):\n",
    "    \"\"\"\n",
    "    Generate 2-D matrix containing Light and N availability gradients\n",
    "    \n",
    "    X: (sigma_rM) N availability (kg N / kg FR / yr)\n",
    "    `Nup_max_specific`\n",
    "    \n",
    "    Y: (sigma_fM) Light saturated foliar-specific photosynthetic rate (kg C / kg foliage / yr)\n",
    "    `Photosyn_lightsat`\n",
    "    \n",
    "    :return: target matrix\n",
    "    \"\"\"\n",
    "    num_x = int((x_end - x_start) / step) + 1\n",
    "    num_y = int((y_end - y_start) / step) + 1\n",
    "    matrix_n = np.zeros((num_y, num_x))\n",
    "    matrix_p = np.zeros((num_y, num_x))\n",
    "    \n",
    "    for _i in range(num_y):\n",
    "        for _j in range(num_x):\n",
    "            matrix_n[_i][_j] = x_start + _j * step\n",
    "            matrix_p[_i][_j] = y_start + _i * step\n",
    "    return matrix_n, matrix_p\n",
    "\n",
    "gradient_matrix_n, gradient_matrix_p = matrix_generator(0, 10, 0, 10, 1)"
   ]
  },
  {
   "cell_type": "code",
   "execution_count": 10,
   "outputs": [],
   "source": [
    "# Load parameters into separate values\n",
    "AvgLongevity_foliage = params_dict[\"AvgLongevity_foliage\"]\n",
    "AvgLongevity_wood = params_dict[\"AvgLongevity_wood\"]\n",
    "AvgLongevity_root = params_dict[\"AvgLongevity_root\"]\n",
    "\n",
    "NResorbFrac_foliage = params_dict[\"NResorbFrac_foliage\"]\n",
    "NResorbFrac_wood = params_dict[\"NResorbFrac_wood\"]\n",
    "NResorbFrac_root = params_dict[\"NResorbFrac_root\"]\n",
    "\n",
    "alpha_w = params_dict[\"alpha_w\"]\n",
    "c_H = params_dict[\"c_H\"]\n",
    "NrNf_ratio = params_dict[\"NrNf_ratio\"]\n",
    "NwNf_ratio = params_dict[\"NwNf_ratio\"]\n",
    "Resp_Nspecific = params_dict[\"Resp_Nspecific\"]\n",
    "CtoDM_frac = params_dict[\"CtoDM_frac\"]\n",
    "Kr = params_dict[\"Kr\"]\n",
    "Kf = params_dict[\"Kf\"]"
   ],
   "metadata": {
    "collapsed": false,
    "ExecuteTime": {
     "end_time": "2024-05-16T07:50:12.426901Z",
     "start_time": "2024-05-16T07:50:12.421946Z"
    }
   },
   "id": "2a7ebbe2ec0ceb15"
  },
  {
   "cell_type": "code",
   "execution_count": 11,
   "outputs": [],
   "source": [
    "# Define symbolic variables\n",
    "Nconc_foliage, psi_r, Photosyn_lightsat, Nup_max_specific = sp.symbols('Nconc_foliage psi_r Photosyn_lightsat Nup_max_specific')\n",
    "\n",
    "exp_beta1 = CtoDM_frac * Photosyn_lightsat * Kf / (1 / AvgLongevity_root + Resp_Nspecific * Nconc_foliage * NrNf_ratio)\n",
    "\n",
    "exp_beta2 = (1 / AvgLongevity_foliage + Nconc_foliage * (\n",
    "            alpha_w * c_H / AvgLongevity_wood +\n",
    "            CtoDM_frac * Resp_Nspecific * (1 + NwNf_ratio * alpha_w * c_H * Nconc_foliage)\n",
    "    )) / (1 / AvgLongevity_root + CtoDM_frac * Resp_Nspecific * Nconc_foliage * NrNf_ratio)\n",
    "\n",
    "exp_beta3 = (Nup_max_specific * Kr) / (\n",
    "            Nconc_foliage * (1 - NResorbFrac_root) * NrNf_ratio / AvgLongevity_root\n",
    "    )\n",
    "\n",
    "exp_beta4 = (\n",
    "                    (1 - NResorbFrac_foliage) / AvgLongevity_foliage +\n",
    "                    (1 - NResorbFrac_wood) * NwNf_ratio * alpha_w * c_H * Nconc_foliage / AvgLongevity_wood\n",
    "            ) / (\n",
    "                    (1 - NResorbFrac_root) * NrNf_ratio / AvgLongevity_root\n",
    "            )\n",
    "\n",
    "exp_a1 = (exp_beta1 - exp_beta3 + Kr - Kf * (exp_beta2 + exp_beta4)) / -Kf\n",
    "exp_a2 = (exp_beta1 * exp_beta4 - exp_beta2 * exp_beta3 + Kr * (exp_beta2 + exp_beta4) - Kf * exp_beta2 * exp_beta4) / -Kf\n",
    "exp_a3 = Kr * exp_beta2 * exp_beta4 / -Kf\n",
    "\n",
    "exp_cubiceq_psi_r = psi_r**3 + exp_a1*psi_r**2 + exp_a2*psi_r + exp_a3\n",
    "\n",
    "# Symbolic solutions, containing Nconc_foliage, psi_r, Photosyn_lightsat, Nup_max_specific\n",
    "# Photosyn_lightsat, Nup_max_specific is evaluated later so the final solution is psi_r given a Nconc_foliage.\n",
    "exp_cubiceq_psi_r_solutions = sp.solve(exp_cubiceq_psi_r, psi_r)\n",
    "\n",
    "# simplified_expression = sp.simplify(expression)"
   ],
   "metadata": {
    "collapsed": false,
    "ExecuteTime": {
     "end_time": "2024-05-16T07:50:14.651919Z",
     "start_time": "2024-05-16T07:50:14.424127Z"
    }
   },
   "id": "d5dae3999477cbbc"
  },
  {
   "cell_type": "code",
   "execution_count": 14,
   "outputs": [],
   "source": [
    "# Enumerate the 2-D matrix\n",
    "psi_r_solution_dict = {}\n",
    "try:\n",
    "    for i in range(len(gradient_matrix_n)):  # or gradient_matrix_p\n",
    "        for j in range(len(gradient_matrix_n[i])):\n",
    "            _Nup_max_specific = gradient_matrix_n[i, j]\n",
    "            _Photosyn_lightsat = gradient_matrix_p[i, j]\n",
    "            \n",
    "            # Symbolic solutions of psi_r containing only Nconc_foliage as variable\n",
    "            psi_r_solution_list = [i.evalf(subs={Nup_max_specific:_Nup_max_specific,Photosyn_lightsat:_Photosyn_lightsat}) for i in exp_cubiceq_psi_r_solutions]\n",
    "            \n",
    "            psi_r_solution_dict[(_Nup_max_specific, _Photosyn_lightsat)] = psi_r_solution_list\n",
    "            # raise StopIteration\n",
    "except StopIteration:\n",
    "    pass\n",
    "\n",
    "# Pick one for further optimization\n",
    "test_Nup_max_specific = 4\n",
    "test_Photosyn_lightsat = 8\n",
    "psi_r_solution_example = psi_r_solution_dict[(test_Nup_max_specific, test_Photosyn_lightsat)]"
   ],
   "metadata": {
    "collapsed": false,
    "ExecuteTime": {
     "end_time": "2024-05-16T08:17:39.869624Z",
     "start_time": "2024-05-16T08:17:34.321233Z"
    }
   },
   "id": "e9031ef11233d75a"
  },
  {
   "cell_type": "code",
   "execution_count": null,
   "outputs": [],
   "source": [
    "from modules.cn_allocation import Makela08_alloc_symbsolver\n",
    "Wf_solver = Makela08_alloc_symbsolver.DryMassFoliageSolver(\n",
    "    test_Nup_max_specific, test_Photosyn_lightsat, params_dict\n",
    ")\n",
    "\n",
    "symb_DM_foliage_C = Wf_solver.solve_carbon(psi_r_solution_example[0])[0]\n",
    "symb_DM_foliage_N = Wf_solver.solve_nitrogen(psi_r_solution_example[0])[0]\n",
    "\n"
   ],
   "metadata": {
    "collapsed": false
   },
   "id": "63acab2ca7d858cb"
  }
 ],
 "metadata": {
  "kernelspec": {
   "display_name": "Python 3",
   "language": "python",
   "name": "python3"
  },
  "language_info": {
   "codemirror_mode": {
    "name": "ipython",
    "version": 2
   },
   "file_extension": ".py",
   "mimetype": "text/x-python",
   "name": "python",
   "nbconvert_exporter": "python",
   "pygments_lexer": "ipython2",
   "version": "2.7.6"
  }
 },
 "nbformat": 4,
 "nbformat_minor": 5
}
