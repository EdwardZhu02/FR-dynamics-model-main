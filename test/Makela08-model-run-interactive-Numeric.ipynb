{
 "cells": [
  {
   "cell_type": "code",
   "execution_count": null,
   "id": "ad4a156d2459cee4",
   "metadata": {
    "collapsed": false
   },
   "outputs": [],
   "source": [
    "from modules.cn_allocation import Makela08_alloc_parameter\n",
    "from modules.cn_allocation import Makela08_alloc_mainsolver\n",
    "import numpy as np\n",
    "import matplotlib.pyplot as plt\n",
    "\n",
    "params_dict = Makela08_alloc_parameter.get_param_dict(dict_name=\"params_makela08_pine\")"
   ]
  },
  {
   "cell_type": "code",
   "execution_count": null,
   "id": "3ce6ac20050964db",
   "metadata": {
    "collapsed": false
   },
   "outputs": [],
   "source": [
    "# For testing purposes\n",
    "Nup_max_specific = 5\n",
    "# Photosyn_lightsat = 2\n",
    "\n",
    "# Wr = psi_r * Wf\n",
    "\n",
    "psi_r_realroots_list = []\n",
    "psi_r_solver = Makela08_alloc_mainsolver.PsiRCubicEqnSolver(params_dict)\n",
    "for i in np.arange(0.01, 0.03, 0.0001):  # Nconc_foliage\n",
    "    \n",
    "    Photosyn_lightsat = psi_r_solver.solve_photosyn_rate_lightsat_Ndep(i)\n",
    "    \n",
    "    psi_r_roots, psi_r_realroots_conv, psi_r_realroots_conv_positive, coeff_list = psi_r_solver.solve_cubic_eqn_numeric(Nup_max_specific, Photosyn_lightsat, i)\n",
    "    \n",
    "    psi_r_realroots_list.append([i, psi_r_realroots_conv_positive, Photosyn_lightsat])\n",
    "    "
   ]
  },
  {
   "cell_type": "code",
   "execution_count": null,
   "id": "1a4835b682df777a",
   "metadata": {
    "collapsed": false
   },
   "outputs": [],
   "source": [
    "# Solve G using psi_r\n",
    "# Use DM_foliage_C\n",
    "G_result_list = []\n",
    "\n",
    "for indv_combination in psi_r_realroots_list:\n",
    "    Nconc_foliage = indv_combination[0]\n",
    "    psi_r_real = indv_combination[1][0]\n",
    "    Photosyn_lightsat_forsolve = indv_combination[2]\n",
    "    \n",
    "    Wf_solver = Makela08_alloc_mainsolver.DryMassFoliageSolver(\n",
    "        Nup_max_specific, Photosyn_lightsat_forsolve, params_dict,\n",
    "        Nconc_foliage=Nconc_foliage, use_numeric_Nconc_foliage=True\n",
    "    )\n",
    "    DM_foliage_C = Wf_solver.solve_carbon(psi_r_real)[0]\n",
    "    # DM_foliage_N = Wf_solver.solve_nitrogen(psi_r_real)[0]\n",
    "    \n",
    "    G_solver = Makela08_alloc_mainsolver.BiomassProductionSolver(\n",
    "        params_dict,\n",
    "        Nconc_foliage=Nconc_foliage, use_numeric_Nconc_foliage=True\n",
    "    )\n",
    "    \n",
    "    G_C = G_solver.solve_total_biomass_production(DM_foliage_C, psi_r_real)\n",
    "    # G_N = G_solver.solve_total_biomass_production(DM_foliage_N, psi_r_real)\n",
    "    \n",
    "    G_result_list.append([Nconc_foliage, psi_r_real, DM_foliage_C, G_C])\n",
    "    \n",
    "    "
   ]
  },
  {
   "cell_type": "code",
   "execution_count": null,
   "id": "ae631a42a370f8ed",
   "metadata": {
    "collapsed": false
   },
   "outputs": [],
   "source": [
    "# Plotting: Nconc_foliage=x, G_C=y, under certain Nup_max_specific and Photosyn_lightsat\n",
    "x = [pair[0] for pair in G_result_list]\n",
    "y = [pair[-1] for pair in G_result_list]\n",
    "plt.scatter(x, y)  # Plot x against y as a scatter plot\n",
    "plt.title('Scatter Plot - G vs [N]_f \\nNup_max_specific=%s' % Nup_max_specific)\n",
    "plt.xlabel('Foliage N concentration ([N]_f, kg/kg)')\n",
    "plt.ylabel('Total SS biomass production (G, kg/(ha*yr))')\n",
    "plt.show()  # Display the plot"
   ]
  },
  {
   "cell_type": "code",
   "execution_count": null,
   "id": "4cef9a91f137ee08",
   "metadata": {
    "collapsed": false
   },
   "outputs": [],
   "source": [
    "params_dict = Makela08_alloc_parameter.get_param_dict(dict_name=\"params_makela08_pine\")\n",
    "psi_r_solver = Makela08_alloc_mainsolver.PsiRCubicEqnSolver(params_dict)\n",
    "G_numeric_solver = Makela08_alloc_mainsolver.BiomassProductionOptimizerNumeric(psi_r_solver, params_dict)\n",
    "Nconc_foliage_maxG, maxG_value = G_numeric_solver.optimize_total_biomass_production()"
   ]
  },
  {
   "cell_type": "code",
   "execution_count": null,
   "id": "2f5de067",
   "metadata": {},
   "outputs": [],
   "source": [
    "Nconc_foliage_maxG, maxG_value"
   ]
  },
  {
   "cell_type": "code",
   "execution_count": null,
   "outputs": [],
   "source": [],
   "metadata": {
    "collapsed": false
   },
   "id": "865e77694f5e7b9e"
  }
 ],
 "metadata": {
  "kernelspec": {
   "display_name": "Python 3",
   "language": "python",
   "name": "python3"
  },
  "language_info": {
   "codemirror_mode": {
    "name": "ipython",
    "version": 2
   },
   "file_extension": ".py",
   "mimetype": "text/x-python",
   "name": "python",
   "nbconvert_exporter": "python",
   "pygments_lexer": "ipython2",
   "version": "2.7.6"
  }
 },
 "nbformat": 4,
 "nbformat_minor": 5
}
