{
 "cells": [
  {
   "cell_type": "code",
   "execution_count": 2,
   "outputs": [],
   "source": [
    "from modules.cn_allocation import Makela08_alloc_parameter\n",
    "from modules.cn_allocation import Makela08_alloc_symbsolver\n",
    "import numpy as np\n",
    "import sympy as sp\n",
    "\n",
    "params_dict = Makela08_alloc_parameter.get_param_dict(dict_name=\"params_makela08_pine\")"
   ],
   "metadata": {
    "collapsed": false,
    "ExecuteTime": {
     "end_time": "2024-05-17T13:33:15.117509Z",
     "start_time": "2024-05-17T13:33:14.285361Z"
    }
   },
   "id": "ad4a156d2459cee4"
  },
  {
   "cell_type": "code",
   "execution_count": 6,
   "outputs": [],
   "source": [
    "# For testing purposes\n",
    "Nup_max_specific = 15\n",
    "Photosyn_lightsat = 10\n",
    "\n",
    "# Wr = psi_r * Wf\n",
    "\n",
    "psi_r_realroots_list = []\n",
    "psi_r_solver = Makela08_alloc_symbsolver.PsiRCubicEqnSolver(params_dict)\n",
    "for i in range(1,200):  # Nconc_foliage\n",
    "    psi_r_roots, psi_r_realroots_conv, psi_r_realroots_conv_positive, coeff_list = psi_r_solver.solve_cubic_eqn_numeric(Nup_max_specific, Photosyn_lightsat, i)\n",
    "    psi_r_realroots_list.append([i, psi_r_realroots_conv_positive])\n",
    "    "
   ],
   "metadata": {
    "collapsed": false,
    "ExecuteTime": {
     "end_time": "2024-05-17T13:36:48.505534Z",
     "start_time": "2024-05-17T13:36:41.572040Z"
    }
   },
   "id": "3ce6ac20050964db"
  },
  {
   "cell_type": "code",
   "execution_count": 7,
   "outputs": [],
   "source": [
    "# Solve G using psi_r\n",
    "G_result_list = []\n",
    "\n",
    "for indv_combination in psi_r_realroots_list:\n",
    "    Nconc_foliage = indv_combination[0]\n",
    "    psi_r_real = indv_combination[1][0]\n",
    "    \n",
    "    Wf_solver = Makela08_alloc_symbsolver.DryMassFoliageSolver(\n",
    "        Nup_max_specific, Photosyn_lightsat, params_dict,\n",
    "        Nconc_foliage=Nconc_foliage, use_numeric_Nconc_foliage=True\n",
    "    )\n",
    "    DM_foliage_C = Wf_solver.solve_carbon(psi_r_real)[0]\n",
    "    DM_foliage_N = Wf_solver.solve_nitrogen(psi_r_real)[0]\n",
    "    \n",
    "    G_solver = Makela08_alloc_symbsolver.BiomassProductionSolver(\n",
    "        params_dict,\n",
    "        Nconc_foliage=Nconc_foliage, use_numeric_Nconc_foliage=True\n",
    "    )\n",
    "    \n",
    "    G_C = G_solver.solve_total_biomass_production(DM_foliage_C, psi_r_real)\n",
    "    G_N = G_solver.solve_total_biomass_production(DM_foliage_N, psi_r_real)\n",
    "    \n",
    "    G_result_list.append([Nconc_foliage, psi_r_real, DM_foliage_C, DM_foliage_N, G_C, G_N])\n",
    "    \n",
    "    "
   ],
   "metadata": {
    "collapsed": false,
    "ExecuteTime": {
     "end_time": "2024-05-17T13:36:50.199377Z",
     "start_time": "2024-05-17T13:36:50.196072Z"
    }
   },
   "id": "1a4835b682df777a"
  },
  {
   "cell_type": "code",
   "execution_count": null,
   "outputs": [],
   "source": [],
   "metadata": {
    "collapsed": false
   },
   "id": "11e049eb3bb18882"
  }
 ],
 "metadata": {
  "kernelspec": {
   "display_name": "Python 3",
   "language": "python",
   "name": "python3"
  },
  "language_info": {
   "codemirror_mode": {
    "name": "ipython",
    "version": 2
   },
   "file_extension": ".py",
   "mimetype": "text/x-python",
   "name": "python",
   "nbconvert_exporter": "python",
   "pygments_lexer": "ipython2",
   "version": "2.7.6"
  }
 },
 "nbformat": 4,
 "nbformat_minor": 5
}
