{
 "cells": [
  {
   "cell_type": "code",
   "execution_count": 1,
   "outputs": [],
   "source": [
    "from modules.cn_allocation import Makela08_alloc_parameter\n",
    "from modules.cn_allocation import Makela08_alloc_symbsolver\n",
    "import numpy as np\n",
    "import sympy as sp\n",
    "\n",
    "params_dict = Makela08_alloc_parameter.get_param_dict(dict_name=\"params_makela08_pine\")\n",
    "\n",
    "# For testing purposes\n",
    "Nup_max_specific = 10\n",
    "Photosyn_lightsat = 10\n"
   ],
   "metadata": {
    "collapsed": false,
    "ExecuteTime": {
     "end_time": "2024-05-17T10:33:07.140917Z",
     "start_time": "2024-05-17T10:33:06.680446Z"
    }
   },
   "id": "ad4a156d2459cee4"
  },
  {
   "cell_type": "code",
   "execution_count": 2,
   "outputs": [
    {
     "name": "stdout",
     "output_type": "stream",
     "text": [
      "[172.89874077704266, 2900.3911285277845, -654.7846715063732]\n"
     ]
    }
   ],
   "source": [
    "for i in range(1,100):\n",
    "    psi_r_solver = Makela08_alloc_symbsolver.PsiRCubicEqnSolver(params_dict)\n",
    "    psi_r_roots, coeff_list = psi_r_solver.solve_cubic_eqn_numeric(Nup_max_specific, Photosyn_lightsat, i)\n",
    "    print(coeff_list)\n",
    "    break"
   ],
   "metadata": {
    "collapsed": false,
    "ExecuteTime": {
     "end_time": "2024-05-17T10:33:11.458270Z",
     "start_time": "2024-05-17T10:33:11.353833Z"
    }
   },
   "id": "3ce6ac20050964db"
  },
  {
   "cell_type": "code",
   "execution_count": 5,
   "outputs": [],
   "source": [
    "from numpy.polynomial.polynomial import Polynomial\n",
    "p = Polynomial([-654.78, 2900.39, 172.89, 1])  # x^3 + a1x^2 + a2x + a3\n",
    "psi_r_roots1 = p.roots()\n",
    "psi_r_real_roots1 = psi_r_roots1[np.isreal(psi_r_roots1)].real"
   ],
   "metadata": {
    "collapsed": false,
    "ExecuteTime": {
     "end_time": "2024-05-17T10:24:05.829339Z",
     "start_time": "2024-05-17T10:24:05.825365Z"
    }
   },
   "id": "f0dbe8ab6f9085ba"
  },
  {
   "cell_type": "code",
   "execution_count": 6,
   "outputs": [],
   "source": [],
   "metadata": {
    "collapsed": false,
    "ExecuteTime": {
     "end_time": "2024-05-17T10:31:36.798200Z",
     "start_time": "2024-05-17T10:31:36.748351Z"
    }
   },
   "id": "ae14f93ea07c2429"
  }
 ],
 "metadata": {
  "kernelspec": {
   "display_name": "Python 3",
   "language": "python",
   "name": "python3"
  },
  "language_info": {
   "codemirror_mode": {
    "name": "ipython",
    "version": 2
   },
   "file_extension": ".py",
   "mimetype": "text/x-python",
   "name": "python",
   "nbconvert_exporter": "python",
   "pygments_lexer": "ipython2",
   "version": "2.7.6"
  }
 },
 "nbformat": 4,
 "nbformat_minor": 5
}
