{
 "cells": [
  {
   "cell_type": "code",
   "execution_count": null,
   "metadata": {},
   "outputs": [],
   "source": [
    "params_makela08_spruce = {\n",
    "    \"AvgLongevity_foliage\":     8,      # T_f  | Mean lifetime (yr)\n",
    "    \"AvgLongevity_wood\":        33.3,   # T_w  | Mean lifetime (yr)\n",
    "    \"AvgLongevity_root\":        1.25,   # T_r  | Mean lifetime (yr)\n",
    "\n",
    "    \"alpha_w\":                  0.4,    # alpha_w | Sapwood weight per unit foliage and pipe length\n",
    "    \"c_H\":                      3400,   # c_H     | ‘Steady-state’ pipe length coefficient\n",
    "\n",
    "    \"Kr\":                      2000,    # K_r | Amount of roots capturing 50% of available N (kg/ha)\n",
    "    \"Kf\":                      8000,    # K_f | Amount of foliage capturing 50% of maximum C gain (kg/ha)\n",
    "\n",
    "    \"NResorbFrac_foliage\":      0.3,    # f_f | Proportion N recycled\n",
    "    \"NResorbFrac_wood\":         0.3,    # f_w | Proportion N recycled\n",
    "    \"NResorbFrac_root\":         0.3,    # f_r | Proportion N recycled\n",
    "    \"Resp_Nspecific\":           16,     # Y   | Specific rate of maintenance respiration (kg−1 N yr−1)\n",
    "\n",
    "    \"CtoDM_frac\":               1.54,   # sigma_fM | Growth efficiency, Yg (kg DW kg−1 C)\n",
    "\n",
    "    \"NrNf_ratio\":               1,      # N_r   | Ratio of fine root [N] to foliage [N]\n",
    "    \"NwNf_ratio\":               0.07,   # N_w   | Ratio of sapwood [N] to foliage [N]\n",
    "}\n"
   ]
  },
  {
   "cell_type": "code",
   "execution_count": null,
   "metadata": {},
   "outputs": [],
   "source": [
    "beta1 = "
   ]
  }
 ],
 "metadata": {
  "kernelspec": {
   "display_name": "frdmm",
   "language": "python",
   "name": "python3"
  },
  "language_info": {
   "codemirror_mode": {
    "name": "ipython",
    "version": 3
   },
   "file_extension": ".py",
   "mimetype": "text/x-python",
   "name": "python",
   "nbconvert_exporter": "python",
   "pygments_lexer": "ipython3",
   "version": "3.8.19"
  }
 },
 "nbformat": 4,
 "nbformat_minor": 2
}
