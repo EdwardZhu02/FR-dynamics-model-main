{
 "cells": [
  {
   "cell_type": "code",
   "execution_count": 1,
   "id": "initial_id",
   "metadata": {
    "ExecuteTime": {
     "end_time": "2024-05-17T03:11:34.467363Z",
     "start_time": "2024-05-17T03:11:34.184699Z"
    },
    "collapsed": true
   },
   "outputs": [],
   "source": [
    "from modules.cn_allocation import Makela08_alloc_parameter\n",
    "import numpy as np\n",
    "import sympy as sp\n",
    "\n",
    "\n",
    "params_dict = Makela08_alloc_parameter.get_param_dict(dict_name=\"params_makela08_pine\")\n",
    "\n",
    "def matrix_generator(x_start, x_end, y_start, y_end, step):\n",
    "    \"\"\"\n",
    "    Generate 2-D matrix containing Light and N availability gradients\n",
    "    \n",
    "    X: (sigma_rM) N availability (kg N / kg FR / yr)\n",
    "    `Nup_max_specific`\n",
    "    \n",
    "    Y: (sigma_fM) Light saturated foliar-specific photosynthetic rate (kg C / kg foliage / yr)\n",
    "    `Photosyn_lightsat`\n",
    "    \n",
    "    :return: target matrix\n",
    "    \"\"\"\n",
    "    num_x = int((x_end - x_start) / step) + 1\n",
    "    num_y = int((y_end - y_start) / step) + 1\n",
    "    matrix_n = np.zeros((num_y, num_x))\n",
    "    matrix_p = np.zeros((num_y, num_x))\n",
    "    \n",
    "    for _i in range(num_y):\n",
    "        for _j in range(num_x):\n",
    "            matrix_n[_i][_j] = x_start + _j * step\n",
    "            matrix_p[_i][_j] = y_start + _i * step\n",
    "    return matrix_n, matrix_p\n",
    "\n",
    "gradient_matrix_n, gradient_matrix_p = matrix_generator(0, 10, 0, 10, 1)"
   ]
  },
  {
   "cell_type": "code",
   "execution_count": 2,
   "id": "2a7ebbe2ec0ceb15",
   "metadata": {
    "ExecuteTime": {
     "end_time": "2024-05-17T03:11:40.226246Z",
     "start_time": "2024-05-17T03:11:40.222802Z"
    },
    "collapsed": false
   },
   "outputs": [],
   "source": [
    "# Load parameters into separate values\n",
    "AvgLongevity_foliage = params_dict[\"AvgLongevity_foliage\"]\n",
    "AvgLongevity_wood = params_dict[\"AvgLongevity_wood\"]\n",
    "AvgLongevity_root = params_dict[\"AvgLongevity_root\"]\n",
    "\n",
    "NResorbFrac_foliage = params_dict[\"NResorbFrac_foliage\"]\n",
    "NResorbFrac_wood = params_dict[\"NResorbFrac_wood\"]\n",
    "NResorbFrac_root = params_dict[\"NResorbFrac_root\"]\n",
    "\n",
    "alpha_w = params_dict[\"alpha_w\"]\n",
    "c_H = params_dict[\"c_H\"]\n",
    "NrNf_ratio = params_dict[\"NrNf_ratio\"]\n",
    "NwNf_ratio = params_dict[\"NwNf_ratio\"]\n",
    "Resp_Nspecific = params_dict[\"Resp_Nspecific\"]\n",
    "CtoDM_frac = params_dict[\"CtoDM_frac\"]\n",
    "Kr = params_dict[\"Kr\"]\n",
    "Kf = params_dict[\"Kf\"]"
   ]
  },
  {
   "cell_type": "code",
   "execution_count": 3,
   "id": "d5dae3999477cbbc",
   "metadata": {
    "ExecuteTime": {
     "end_time": "2024-05-17T03:12:23.276268Z",
     "start_time": "2024-05-17T03:12:22.223830Z"
    },
    "collapsed": false
   },
   "outputs": [],
   "source": [
    "# Define symbolic variables\n",
    "Nconc_foliage, psi_r, Photosyn_lightsat, Nup_max_specific = sp.symbols('Nconc_foliage psi_r Photosyn_lightsat Nup_max_specific')\n",
    "\n",
    "exp_beta1 = CtoDM_frac * Photosyn_lightsat * Kf / (1 / AvgLongevity_root + Resp_Nspecific * Nconc_foliage * NrNf_ratio)\n",
    "\n",
    "exp_beta2 = (1 / AvgLongevity_foliage + Nconc_foliage * (\n",
    "            alpha_w * c_H / AvgLongevity_wood +\n",
    "            CtoDM_frac * Resp_Nspecific * (1 + NwNf_ratio * alpha_w * c_H * Nconc_foliage)\n",
    "    )) / (1 / AvgLongevity_root + CtoDM_frac * Resp_Nspecific * Nconc_foliage * NrNf_ratio)\n",
    "\n",
    "exp_beta3 = (Nup_max_specific * Kr) / (\n",
    "            Nconc_foliage * (1 - NResorbFrac_root) * NrNf_ratio / AvgLongevity_root\n",
    "    )\n",
    "\n",
    "exp_beta4 = (\n",
    "                    (1 - NResorbFrac_foliage) / AvgLongevity_foliage +\n",
    "                    (1 - NResorbFrac_wood) * NwNf_ratio * alpha_w * c_H * Nconc_foliage / AvgLongevity_wood\n",
    "            ) / (\n",
    "                    (1 - NResorbFrac_root) * NrNf_ratio / AvgLongevity_root\n",
    "            )\n",
    "\n",
    "exp_a1 = sp.simplify( (exp_beta1 - exp_beta3 + Kr - Kf * (exp_beta2 + exp_beta4)) / -Kf )\n",
    "exp_a2 = sp.simplify( (exp_beta1 * exp_beta4 - exp_beta2 * exp_beta3 + Kr * (exp_beta2 + exp_beta4) - Kf * exp_beta2 * exp_beta4) / -Kf )\n",
    "exp_a3 = sp.simplify( Kr * exp_beta2 * exp_beta4 / -Kf )\n",
    "\n",
    "exp_cubiceq_psi_r = sp.simplify( psi_r**3 + exp_a1*psi_r**2 + exp_a2*psi_r + exp_a3 )\n",
    "\n",
    "# Symbolic solutions, containing Nconc_foliage, psi_r, Photosyn_lightsat, Nup_max_specific\n",
    "# Photosyn_lightsat, Nup_max_specific is evaluated later so the final solution is psi_r given a Nconc_foliage.\n",
    "exp_cubiceq_psi_r_solutions = sp.solve(exp_cubiceq_psi_r, psi_r)\n",
    "\n",
    "# simplified_expression = sp.simplify(expression)"
   ]
  },
  {
   "cell_type": "code",
   "execution_count": 4,
   "id": "e9031ef11233d75a",
   "metadata": {
    "ExecuteTime": {
     "end_time": "2024-05-17T03:54:23.832694Z",
     "start_time": "2024-05-17T03:54:19.295536Z"
    },
    "collapsed": false
   },
   "outputs": [],
   "source": [
    "# Enumerate the 2-D matrix\n",
    "psi_r_solution_dict = {}\n",
    "try:\n",
    "    for i in range(len(gradient_matrix_n)):  # or gradient_matrix_p\n",
    "        for j in range(len(gradient_matrix_n[i])):\n",
    "            _Nup_max_specific = gradient_matrix_n[i, j]\n",
    "            _Photosyn_lightsat = gradient_matrix_p[i, j]\n",
    "            \n",
    "            # Symbolic solutions of psi_r containing only Nconc_foliage as variable\n",
    "            psi_r_solution_list = [i.evalf(subs={Nup_max_specific:_Nup_max_specific,Photosyn_lightsat:_Photosyn_lightsat}) for i in exp_cubiceq_psi_r_solutions]\n",
    "            \n",
    "            psi_r_solution_dict[(_Nup_max_specific, _Photosyn_lightsat)] = psi_r_solution_list\n",
    "            # raise StopIteration\n",
    "except StopIteration:\n",
    "    pass\n",
    "\n",
    "# Pick one for further optimization\n",
    "test_Nup_max_specific = 4\n",
    "test_Photosyn_lightsat = 8\n",
    "psi_r_solution_example = psi_r_solution_dict[(test_Nup_max_specific, test_Photosyn_lightsat)]\n",
    "\n",
    "# Check if there is any real roots (do not contain complex units)\n"
   ]
  },
  {
   "cell_type": "code",
   "execution_count": 5,
   "id": "ded7b49183127da9",
   "metadata": {
    "ExecuteTime": {
     "end_time": "2024-05-17T03:59:49.490697Z",
     "start_time": "2024-05-17T03:59:49.488892Z"
    },
    "collapsed": false
   },
   "outputs": [],
   "source": [
    "evaluated_pai_r_value = [exp_cubiceq_psi_r_solution.subs({Nconc_foliage:4}) for exp_cubiceq_psi_r_solution in psi_r_solution_example]\n",
    "\n",
    "psi_r_solution_non_complex = [expr for expr in evaluated_pai_r_value if not expr.has(sp.I)]"
   ]
  },
  {
   "cell_type": "code",
   "execution_count": 10,
   "id": "63acab2ca7d858cb",
   "metadata": {
    "ExecuteTime": {
     "end_time": "2024-05-17T02:51:45.766639Z",
     "start_time": "2024-05-17T02:51:35.011460Z"
    },
    "collapsed": false
   },
   "outputs": [],
   "source": [
    "from modules.cn_allocation import Makela08_alloc_symbsolver\n",
    "\n",
    "Wf_solver = Makela08_alloc_symbsolver.DryMassFoliageSolver(\n",
    "    test_Nup_max_specific, test_Photosyn_lightsat, params_dict\n",
    ")\n",
    "\n",
    "symb_DM_foliage_C = Wf_solver.solve_carbon(psi_r_solution_example[0])[0]\n",
    "symb_DM_foliage_N = Wf_solver.solve_nitrogen(psi_r_solution_example[0])[0]\n",
    "\n",
    "G_solver = Makela08_alloc_symbsolver.BiomassProductionSolver(params_dict)\n",
    "\n",
    "symb_G_C = G_solver.solve_total_biomass_production(symb_DM_foliage_C, psi_r_solution_example[0])\n",
    "symb_G_N = G_solver.solve_total_biomass_production(symb_DM_foliage_N, psi_r_solution_example[0])\n"
   ]
  },
  {
   "cell_type": "code",
   "execution_count": 11,
   "id": "71fff9b72311555b",
   "metadata": {
    "ExecuteTime": {
     "end_time": "2024-05-17T02:54:29.305001Z",
     "start_time": "2024-05-17T02:54:29.290816Z"
    },
    "collapsed": false
   },
   "outputs": [],
   "source": [
    "import matplotlib.pyplot as plt\n",
    "G_optimizer = Makela08_alloc_symbsolver.BiomassProductionOptimizer(symb_G_C, symb_G_N)\n",
    "# Nconc_foliage_maxG, maxG_value = G_optimizer.optimize_total_biomass_production(100, 1000, \"C\")\n",
    "# print(Nconc_foliage_maxG)\n",
    "# print(\"-------\")\n",
    "# print(maxG_value)\n",
    "# symb_G_C = G_optimizer.optimize_total_biomass_production(100, 1000, \"C\")\n"
   ]
  },
  {
   "cell_type": "code",
   "execution_count": 13,
   "id": "6c5ed4da",
   "metadata": {},
   "outputs": [
    {
     "name": "stdout",
     "output_type": "stream",
     "text": [
      "(-2500 + 30800.0/((16*Nconc_foliage + 0.8)*(-0.0020614306328592*(-3.0*(7215704939520.0*Nconc_foliage**5 - 145697443584.0*Nconc_foliage**4 + 8337636250944.0*Nconc_foliage**3 + 591522941380.0*Nconc_foliage**2 + 9345708500.0*Nconc_foliage + 33000000.0)/(9391536000.0*Nconc_foliage**3 + 774496800.0*Nconc_foliage**2 + 15246000.0*Nconc_foliage) + 26146.89*(Nconc_foliage**4 + 0.0686184666704147*Nconc_foliage**3 + 0.0314993111122307*Nconc_foliage**2 + 0.00275927131817067*Nconc_foliage + 5.7368199430219e-5)**2/(Nconc_foliage**3 + 0.0824675324675325*Nconc_foliage**2 + 0.00162337662337662*Nconc_foliage)**2)/((-0.999999999999999*(-0.000114736398860438*(7215704939520.0*Nconc_foliage**5 - 145697443584.0*Nconc_foliage**4 + 8337636250944.0*Nconc_foliage**3 + 591522941380.0*Nconc_foliage**2 + 9345708500.0*Nconc_foliage + 33000000.0)/(9391536000.0*Nconc_foliage**3 + 774496800.0*Nconc_foliage**2 + 15246000.0*Nconc_foliage) + (Nconc_foliage**4 + 0.0686184666704147*Nconc_foliage**3 + 0.0314993111122307*Nconc_foliage**2 + 0.00275927131817067*Nconc_foliage + 5.7368199430219e-5)**2/(Nconc_foliage**3 + 0.0824675324675325*Nconc_foliage**2 + 0.00162337662337662*Nconc_foliage)**2)**3 + (-1.06434507291687e-6*(4601852640.0*Nconc_foliage**4 + 315772072.0*Nconc_foliage**3 + 144955188.0*Nconc_foliage**2 + 12697760.0*Nconc_foliage + 264000.0)*(7215704939520.0*Nconc_foliage**5 - 145697443584.0*Nconc_foliage**4 + 8337636250944.0*Nconc_foliage**3 + 591522941380.0*Nconc_foliage**2 + 9345708500.0*Nconc_foliage + 33000000.0)/((28459200.0*Nconc_foliage**3 + 2346960.0*Nconc_foliage**2 + 46200.0*Nconc_foliage)*(9391536000.0*Nconc_foliage**3 + 774496800.0*Nconc_foliage**2 + 15246000.0*Nconc_foliage)) + (Nconc_foliage**4 + 0.0686184666704147*Nconc_foliage**3 + 0.0314993111122307*Nconc_foliage**2 + 0.00275927131817067*Nconc_foliage + 5.7368199430219e-5)**3/(Nconc_foliage**3 + 0.0824675324675325*Nconc_foliage**2 + 0.00162337662337662*Nconc_foliage)**3 + 3.1930352187506e-6*(-12885187392.0*Nconc_foliage**3 - 1265011440.0*Nconc_foliage**2 - 21800625.0*Nconc_foliage - 78125.0)/(20963250.0*Nconc_foliage + 680625.0))**2)**0.5 - 1.06434507291687e-6*(4601852640.0*Nconc_foliage**4 + 315772072.0*Nconc_foliage**3 + 144955188.0*Nconc_foliage**2 + 12697760.0*Nconc_foliage + 264000.0)*(7215704939520.0*Nconc_foliage**5 - 145697443584.0*Nconc_foliage**4 + 8337636250944.0*Nconc_foliage**3 + 591522941380.0*Nconc_foliage**2 + 9345708500.0*Nconc_foliage + 33000000.0)/((28459200.0*Nconc_foliage**3 + 2346960.0*Nconc_foliage**2 + 46200.0*Nconc_foliage)*(9391536000.0*Nconc_foliage**3 + 774496800.0*Nconc_foliage**2 + 15246000.0*Nconc_foliage)) + (Nconc_foliage**4 + 0.0686184666704147*Nconc_foliage**3 + 0.0314993111122307*Nconc_foliage**2 + 0.00275927131817067*Nconc_foliage + 5.7368199430219e-5)**3/(Nconc_foliage**3 + 0.0824675324675325*Nconc_foliage**2 + 0.00162337662337662*Nconc_foliage)**3 + 3.1930352187506e-6*(-12885187392.0*Nconc_foliage**3 - 1265011440.0*Nconc_foliage**2 - 21800625.0*Nconc_foliage - 78125.0)/(20963250.0*Nconc_foliage + 680625.0))**0.333333333333333 - 53.9*((-0.999999999999999*(-0.000114736398860438*(7215704939520.0*Nconc_foliage**5 - 145697443584.0*Nconc_foliage**4 + 8337636250944.0*Nconc_foliage**3 + 591522941380.0*Nconc_foliage**2 + 9345708500.0*Nconc_foliage + 33000000.0)/(9391536000.0*Nconc_foliage**3 + 774496800.0*Nconc_foliage**2 + 15246000.0*Nconc_foliage) + (Nconc_foliage**4 + 0.0686184666704147*Nconc_foliage**3 + 0.0314993111122307*Nconc_foliage**2 + 0.00275927131817067*Nconc_foliage + 5.7368199430219e-5)**2/(Nconc_foliage**3 + 0.0824675324675325*Nconc_foliage**2 + 0.00162337662337662*Nconc_foliage)**2)**3 + (-1.06434507291687e-6*(4601852640.0*Nconc_foliage**4 + 315772072.0*Nconc_foliage**3 + 144955188.0*Nconc_foliage**2 + 12697760.0*Nconc_foliage + 264000.0)*(7215704939520.0*Nconc_foliage**5 - 145697443584.0*Nconc_foliage**4 + 8337636250944.0*Nconc_foliage**3 + 591522941380.0*Nconc_foliage**2 + 9345708500.0*Nconc_foliage + 33000000.0)/((28459200.0*Nconc_foliage**3 + 2346960.0*Nconc_foliage**2 + 46200.0*Nconc_foliage)*(9391536000.0*Nconc_foliage**3 + 774496800.0*Nconc_foliage**2 + 15246000.0*Nconc_foliage)) + (Nconc_foliage**4 + 0.0686184666704147*Nconc_foliage**3 + 0.0314993111122307*Nconc_foliage**2 + 0.00275927131817067*Nconc_foliage + 5.7368199430219e-5)**3/(Nconc_foliage**3 + 0.0824675324675325*Nconc_foliage**2 + 0.00162337662337662*Nconc_foliage)**3 + 3.1930352187506e-6*(-12885187392.0*Nconc_foliage**3 - 1265011440.0*Nconc_foliage**2 - 21800625.0*Nconc_foliage - 78125.0)/(20963250.0*Nconc_foliage + 680625.0))**2)**0.5 - 1.06434507291687e-6*(4601852640.0*Nconc_foliage**4 + 315772072.0*Nconc_foliage**3 + 144955188.0*Nconc_foliage**2 + 12697760.0*Nconc_foliage + 264000.0)*(7215704939520.0*Nconc_foliage**5 - 145697443584.0*Nconc_foliage**4 + 8337636250944.0*Nconc_foliage**3 + 591522941380.0*Nconc_foliage**2 + 9345708500.0*Nconc_foliage + 33000000.0)/((28459200.0*Nconc_foliage**3 + 2346960.0*Nconc_foliage**2 + 46200.0*Nconc_foliage)*(9391536000.0*Nconc_foliage**3 + 774496800.0*Nconc_foliage**2 + 15246000.0*Nconc_foliage)) + (Nconc_foliage**4 + 0.0686184666704147*Nconc_foliage**3 + 0.0314993111122307*Nconc_foliage**2 + 0.00275927131817067*Nconc_foliage + 5.7368199430219e-5)**3/(Nconc_foliage**3 + 0.0824675324675325*Nconc_foliage**2 + 0.00162337662337662*Nconc_foliage)**3 + 3.1930352187506e-6*(-12885187392.0*Nconc_foliage**3 - 1265011440.0*Nconc_foliage**2 - 21800625.0*Nconc_foliage - 78125.0)/(20963250.0*Nconc_foliage + 680625.0))**0.333333333333333 - 0.333333333333333*(4601852640.0*Nconc_foliage**4 + 315772072.0*Nconc_foliage**3 + 144955188.0*Nconc_foliage**2 + 12697760.0*Nconc_foliage + 264000.0)/(28459200.0*Nconc_foliage**3 + 2346960.0*Nconc_foliage**2 + 46200.0*Nconc_foliage) + (Nconc_foliage*(3863.552*Nconc_foliage + 80.64) + 0.303030303030303)/(24.64*Nconc_foliage + 0.8))))*(56.0*Nconc_foliage - 0.00164914450628736*(-3.0*(7215704939520.0*Nconc_foliage**5 - 145697443584.0*Nconc_foliage**4 + 8337636250944.0*Nconc_foliage**3 + 591522941380.0*Nconc_foliage**2 + 9345708500.0*Nconc_foliage + 33000000.0)/(9391536000.0*Nconc_foliage**3 + 774496800.0*Nconc_foliage**2 + 15246000.0*Nconc_foliage) + 26146.89*(Nconc_foliage**4 + 0.0686184666704147*Nconc_foliage**3 + 0.0314993111122307*Nconc_foliage**2 + 0.00275927131817067*Nconc_foliage + 5.7368199430219e-5)**2/(Nconc_foliage**3 + 0.0824675324675325*Nconc_foliage**2 + 0.00162337662337662*Nconc_foliage)**2)/((-0.999999999999999*(-0.000114736398860438*(7215704939520.0*Nconc_foliage**5 - 145697443584.0*Nconc_foliage**4 + 8337636250944.0*Nconc_foliage**3 + 591522941380.0*Nconc_foliage**2 + 9345708500.0*Nconc_foliage + 33000000.0)/(9391536000.0*Nconc_foliage**3 + 774496800.0*Nconc_foliage**2 + 15246000.0*Nconc_foliage) + (Nconc_foliage**4 + 0.0686184666704147*Nconc_foliage**3 + 0.0314993111122307*Nconc_foliage**2 + 0.00275927131817067*Nconc_foliage + 5.7368199430219e-5)**2/(Nconc_foliage**3 + 0.0824675324675325*Nconc_foliage**2 + 0.00162337662337662*Nconc_foliage)**2)**3 + (-1.06434507291687e-6*(4601852640.0*Nconc_foliage**4 + 315772072.0*Nconc_foliage**3 + 144955188.0*Nconc_foliage**2 + 12697760.0*Nconc_foliage + 264000.0)*(7215704939520.0*Nconc_foliage**5 - 145697443584.0*Nconc_foliage**4 + 8337636250944.0*Nconc_foliage**3 + 591522941380.0*Nconc_foliage**2 + 9345708500.0*Nconc_foliage + 33000000.0)/((28459200.0*Nconc_foliage**3 + 2346960.0*Nconc_foliage**2 + 46200.0*Nconc_foliage)*(9391536000.0*Nconc_foliage**3 + 774496800.0*Nconc_foliage**2 + 15246000.0*Nconc_foliage)) + (Nconc_foliage**4 + 0.0686184666704147*Nconc_foliage**3 + 0.0314993111122307*Nconc_foliage**2 + 0.00275927131817067*Nconc_foliage + 5.7368199430219e-5)**3/(Nconc_foliage**3 + 0.0824675324675325*Nconc_foliage**2 + 0.00162337662337662*Nconc_foliage)**3 + 3.1930352187506e-6*(-12885187392.0*Nconc_foliage**3 - 1265011440.0*Nconc_foliage**2 - 21800625.0*Nconc_foliage - 78125.0)/(20963250.0*Nconc_foliage + 680625.0))**2)**0.5 - 1.06434507291687e-6*(4601852640.0*Nconc_foliage**4 + 315772072.0*Nconc_foliage**3 + 144955188.0*Nconc_foliage**2 + 12697760.0*Nconc_foliage + 264000.0)*(7215704939520.0*Nconc_foliage**5 - 145697443584.0*Nconc_foliage**4 + 8337636250944.0*Nconc_foliage**3 + 591522941380.0*Nconc_foliage**2 + 9345708500.0*Nconc_foliage + 33000000.0)/((28459200.0*Nconc_foliage**3 + 2346960.0*Nconc_foliage**2 + 46200.0*Nconc_foliage)*(9391536000.0*Nconc_foliage**3 + 774496800.0*Nconc_foliage**2 + 15246000.0*Nconc_foliage)) + (Nconc_foliage**4 + 0.0686184666704147*Nconc_foliage**3 + 0.0314993111122307*Nconc_foliage**2 + 0.00275927131817067*Nconc_foliage + 5.7368199430219e-5)**3/(Nconc_foliage**3 + 0.0824675324675325*Nconc_foliage**2 + 0.00162337662337662*Nconc_foliage)**3 + 3.1930352187506e-6*(-12885187392.0*Nconc_foliage**3 - 1265011440.0*Nconc_foliage**2 - 21800625.0*Nconc_foliage - 78125.0)/(20963250.0*Nconc_foliage + 680625.0))**0.333333333333333 - 43.12*((-0.999999999999999*(-0.000114736398860438*(7215704939520.0*Nconc_foliage**5 - 145697443584.0*Nconc_foliage**4 + 8337636250944.0*Nconc_foliage**3 + 591522941380.0*Nconc_foliage**2 + 9345708500.0*Nconc_foliage + 33000000.0)/(9391536000.0*Nconc_foliage**3 + 774496800.0*Nconc_foliage**2 + 15246000.0*Nconc_foliage) + (Nconc_foliage**4 + 0.0686184666704147*Nconc_foliage**3 + 0.0314993111122307*Nconc_foliage**2 + 0.00275927131817067*Nconc_foliage + 5.7368199430219e-5)**2/(Nconc_foliage**3 + 0.0824675324675325*Nconc_foliage**2 + 0.00162337662337662*Nconc_foliage)**2)**3 + (-1.06434507291687e-6*(4601852640.0*Nconc_foliage**4 + 315772072.0*Nconc_foliage**3 + 144955188.0*Nconc_foliage**2 + 12697760.0*Nconc_foliage + 264000.0)*(7215704939520.0*Nconc_foliage**5 - 145697443584.0*Nconc_foliage**4 + 8337636250944.0*Nconc_foliage**3 + 591522941380.0*Nconc_foliage**2 + 9345708500.0*Nconc_foliage + 33000000.0)/((28459200.0*Nconc_foliage**3 + 2346960.0*Nconc_foliage**2 + 46200.0*Nconc_foliage)*(9391536000.0*Nconc_foliage**3 + 774496800.0*Nconc_foliage**2 + 15246000.0*Nconc_foliage)) + (Nconc_foliage**4 + 0.0686184666704147*Nconc_foliage**3 + 0.0314993111122307*Nconc_foliage**2 + 0.00275927131817067*Nconc_foliage + 5.7368199430219e-5)**3/(Nconc_foliage**3 + 0.0824675324675325*Nconc_foliage**2 + 0.00162337662337662*Nconc_foliage)**3 + 3.1930352187506e-6*(-12885187392.0*Nconc_foliage**3 - 1265011440.0*Nconc_foliage**2 - 21800625.0*Nconc_foliage - 78125.0)/(20963250.0*Nconc_foliage + 680625.0))**2)**0.5 - 1.06434507291687e-6*(4601852640.0*Nconc_foliage**4 + 315772072.0*Nconc_foliage**3 + 144955188.0*Nconc_foliage**2 + 12697760.0*Nconc_foliage + 264000.0)*(7215704939520.0*Nconc_foliage**5 - 145697443584.0*Nconc_foliage**4 + 8337636250944.0*Nconc_foliage**3 + 591522941380.0*Nconc_foliage**2 + 9345708500.0*Nconc_foliage + 33000000.0)/((28459200.0*Nconc_foliage**3 + 2346960.0*Nconc_foliage**2 + 46200.0*Nconc_foliage)*(9391536000.0*Nconc_foliage**3 + 774496800.0*Nconc_foliage**2 + 15246000.0*Nconc_foliage)) + (Nconc_foliage**4 + 0.0686184666704147*Nconc_foliage**3 + 0.0314993111122307*Nconc_foliage**2 + 0.00275927131817067*Nconc_foliage + 5.7368199430219e-5)**3/(Nconc_foliage**3 + 0.0824675324675325*Nconc_foliage**2 + 0.00162337662337662*Nconc_foliage)**3 + 3.1930352187506e-6*(-12885187392.0*Nconc_foliage**3 - 1265011440.0*Nconc_foliage**2 - 21800625.0*Nconc_foliage - 78125.0)/(20963250.0*Nconc_foliage + 680625.0))**0.333333333333333 + 0.303030303030303 - 0.266666666666667*(4601852640.0*Nconc_foliage**4 + 315772072.0*Nconc_foliage**3 + 144955188.0*Nconc_foliage**2 + 12697760.0*Nconc_foliage + 264000.0)/(28459200.0*Nconc_foliage**3 + 2346960.0*Nconc_foliage**2 + 46200.0*Nconc_foliage))\n"
     ]
    },
    {
     "name": "stderr",
     "output_type": "stream",
     "text": [
      "<string>:1: RuntimeWarning: invalid value encountered in scalar power\n"
     ]
    },
    {
     "data": {
      "image/png": "[encoded data removed]",
      "text/plain": [
       "<Figure size 640x480 with 1 Axes>"
      ]
     },
     "metadata": {},
     "output_type": "display_data"
    },
    {
     "data": {
      "text/plain": [
       "<sympy.plotting.plot.Plot at 0x1db4e272d30>"
      ]
     },
     "execution_count": 13,
     "metadata": {},
     "output_type": "execute_result"
    }
   ],
   "source": [
    "print(symb_G_C)\n",
    "# x_vals = np.linspace(100,1000,4500)\n",
    "# y_vals = symb_G_C(x_vals)\n",
    "# print(y_vals)\n",
    "# plt.plot(x_vals,y_vals)\n",
    "Nconc_foliage = sp.Symbol(\"Nconc_foliage\")\n",
    "sp.plotting.plot(symb_G_C)\n"
   ]
  },
  {
   "cell_type": "code",
   "execution_count": 18,
   "id": "078719d3",
   "metadata": {},
   "outputs": [
    {
     "name": "stdout",
     "output_type": "stream",
     "text": [
      "nan\n"
     ]
    }
   ],
   "source": [
    "print(f_numeric(1010000000))"
   ]
  }
 ],
 "metadata": {
  "kernelspec": {
   "display_name": "Python 3",
   "language": "python",
   "name": "python3"
  },
  "language_info": {
   "codemirror_mode": {
    "name": "ipython",
    "version": 3
   },
   "file_extension": ".py",
   "mimetype": "text/x-python",
   "name": "python",
   "nbconvert_exporter": "python",
   "pygments_lexer": "ipython3",
   "version": "3.8.19"
  }
 },
 "nbformat": 4,
 "nbformat_minor": 5
}
